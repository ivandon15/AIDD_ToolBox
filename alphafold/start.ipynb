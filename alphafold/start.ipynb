{
 "cells": [
  {
   "cell_type": "markdown",
   "metadata": {},
   "source": [
    "# Convert CSV to AF3 JSON\n",
    "\n",
    "**Protein-Peptide Complex** prediction should be the target user of this repo.\n",
    "\n",
    "Complex can contains multiple protein chains, and all of them should only contain natural amino acids.\\\n",
    "Only one peptide should be provided in each complex, and both natural and unnatural amino acids can be included."
   ]
  },
  {
   "cell_type": "markdown",
   "metadata": {},
   "source": [
    "Before starting, you should first run the build_smi2ccd.py\n",
    "```bash\n",
    "python build_smi2ccd.py\n",
    "```\n",
    "Ignoring all the errors or warnings, just make sure `smi2ccd.json` file showed up after running the script."
   ]
  },
  {
   "cell_type": "markdown",
   "metadata": {},
   "source": [
    "## Peptides with All Natural Amino Acid"
   ]
  },
  {
   "cell_type": "code",
   "execution_count": null,
   "metadata": {},
   "outputs": [
    {
     "data": {
      "text/html": [
       "<div>\n",
       "<style scoped>\n",
       "    .dataframe tbody tr th:only-of-type {\n",
       "        vertical-align: middle;\n",
       "    }\n",
       "\n",
       "    .dataframe tbody tr th {\n",
       "        vertical-align: top;\n",
       "    }\n",
       "\n",
       "    .dataframe thead th {\n",
       "        text-align: right;\n",
       "    }\n",
       "</style>\n",
       "<table border=\"1\" class=\"dataframe\">\n",
       "  <thead>\n",
       "    <tr style=\"text-align: right;\">\n",
       "      <th></th>\n",
       "      <th>ID</th>\n",
       "      <th>chainA</th>\n",
       "      <th>chainB</th>\n",
       "      <th>P1</th>\n",
       "      <th>P2</th>\n",
       "      <th>P3</th>\n",
       "      <th>P4</th>\n",
       "      <th>P5</th>\n",
       "      <th>P6</th>\n",
       "      <th>P7</th>\n",
       "      <th>...</th>\n",
       "      <th>P10</th>\n",
       "      <th>P11</th>\n",
       "      <th>P12</th>\n",
       "      <th>P13</th>\n",
       "      <th>linker1</th>\n",
       "      <th>pos_cyclic1</th>\n",
       "      <th>pos_linker1</th>\n",
       "      <th>linker2</th>\n",
       "      <th>pos_cyclic2</th>\n",
       "      <th>pos_linker2</th>\n",
       "    </tr>\n",
       "  </thead>\n",
       "  <tbody>\n",
       "    <tr>\n",
       "      <th>0</th>\n",
       "      <td>1</td>\n",
       "      <td>VSGWLGPQQYLSYNSLRGEAEPCGAWVWENQVSWYWEKETTDLRIK...</td>\n",
       "      <td>VEHSDLSFSKD</td>\n",
       "      <td>NaN</td>\n",
       "      <td>NaN</td>\n",
       "      <td>NaN</td>\n",
       "      <td>NaN</td>\n",
       "      <td>NaN</td>\n",
       "      <td>NaN</td>\n",
       "      <td>NaN</td>\n",
       "      <td>...</td>\n",
       "      <td>NaN</td>\n",
       "      <td>NaN</td>\n",
       "      <td>NaN</td>\n",
       "      <td>NaN</td>\n",
       "      <td>NaN</td>\n",
       "      <td>NaN</td>\n",
       "      <td>NaN</td>\n",
       "      <td>NaN</td>\n",
       "      <td>NaN</td>\n",
       "      <td>NaN</td>\n",
       "    </tr>\n",
       "  </tbody>\n",
       "</table>\n",
       "<p>1 rows × 22 columns</p>\n",
       "</div>"
      ],
      "text/plain": [
       "   ID                                             chainA       chainB   P1  \\\n",
       "0   1  VSGWLGPQQYLSYNSLRGEAEPCGAWVWENQVSWYWEKETTDLRIK...  VEHSDLSFSKD  NaN   \n",
       "\n",
       "    P2   P3   P4   P5   P6   P7  ...  P10  P11  P12  P13 linker1 pos_cyclic1  \\\n",
       "0  NaN  NaN  NaN  NaN  NaN  NaN  ...  NaN  NaN  NaN  NaN     NaN         NaN   \n",
       "\n",
       "  pos_linker1 linker2 pos_cyclic2 pos_linker2  \n",
       "0         NaN     NaN         NaN         NaN  \n",
       "\n",
       "[1 rows x 22 columns]"
      ]
     },
     "execution_count": 2,
     "metadata": {},
     "output_type": "execute_result"
    }
   ],
   "source": [
    "import pandas as pd\n",
    "from other2afjson import *\n",
    "\n",
    "output_folder = \"af_json\"\n",
    "csv_file = \"cplx_candidates.csv\"\n",
    "\n",
    "df = pd.read_csv(csv_file)\n",
    "df_natural = df[df['ID']==1]\n",
    "df_natural"
   ]
  },
  {
   "cell_type": "markdown",
   "metadata": {},
   "source": [
    "You just need to put protein(s) and peptide sequence under column \"chainX\". You can make \"chainX\" here as an object which only contains natural amnio acids."
   ]
  },
  {
   "cell_type": "code",
   "execution_count": null,
   "metadata": {},
   "outputs": [],
   "source": [
    "dataframe2afjsons(df_natural, output_folder=\"af_json\")"
   ]
  },
  {
   "cell_type": "markdown",
   "metadata": {},
   "source": [
    "## Peptides with Unnatural Amino Acid"
   ]
  },
  {
   "cell_type": "markdown",
   "metadata": {},
   "source": [
    "### 1. Linear peptides"
   ]
  },
  {
   "cell_type": "code",
   "execution_count": 3,
   "metadata": {},
   "outputs": [
    {
     "data": {
      "text/html": [
       "<div>\n",
       "<style scoped>\n",
       "    .dataframe tbody tr th:only-of-type {\n",
       "        vertical-align: middle;\n",
       "    }\n",
       "\n",
       "    .dataframe tbody tr th {\n",
       "        vertical-align: top;\n",
       "    }\n",
       "\n",
       "    .dataframe thead th {\n",
       "        text-align: right;\n",
       "    }\n",
       "</style>\n",
       "<table border=\"1\" class=\"dataframe\">\n",
       "  <thead>\n",
       "    <tr style=\"text-align: right;\">\n",
       "      <th></th>\n",
       "      <th>ID</th>\n",
       "      <th>chainA</th>\n",
       "      <th>chainB</th>\n",
       "      <th>P1</th>\n",
       "      <th>P2</th>\n",
       "      <th>P3</th>\n",
       "      <th>P4</th>\n",
       "      <th>P5</th>\n",
       "      <th>P6</th>\n",
       "      <th>P7</th>\n",
       "      <th>...</th>\n",
       "      <th>P10</th>\n",
       "      <th>P11</th>\n",
       "      <th>P12</th>\n",
       "      <th>P13</th>\n",
       "      <th>linker1</th>\n",
       "      <th>pos_cyclic1</th>\n",
       "      <th>pos_linker1</th>\n",
       "      <th>linker2</th>\n",
       "      <th>pos_cyclic2</th>\n",
       "      <th>pos_linker2</th>\n",
       "    </tr>\n",
       "  </thead>\n",
       "  <tbody>\n",
       "    <tr>\n",
       "      <th>1</th>\n",
       "      <td>2</td>\n",
       "      <td>VSGWLGPQQYLSYNSLRGEAEPCGAWVWENQVSWYWEKETTDLRIK...</td>\n",
       "      <td>NaN</td>\n",
       "      <td>ACE</td>\n",
       "      <td>Ala</td>\n",
       "      <td>Cys</td>\n",
       "      <td>Phe</td>\n",
       "      <td>Ala</td>\n",
       "      <td>CUSTOM</td>\n",
       "      <td>Asp</td>\n",
       "      <td>...</td>\n",
       "      <td>Val</td>\n",
       "      <td>Ala</td>\n",
       "      <td>Pro</td>\n",
       "      <td>NH2</td>\n",
       "      <td>NaN</td>\n",
       "      <td>NaN</td>\n",
       "      <td>NaN</td>\n",
       "      <td>NaN</td>\n",
       "      <td>NaN</td>\n",
       "      <td>NaN</td>\n",
       "    </tr>\n",
       "  </tbody>\n",
       "</table>\n",
       "<p>1 rows × 22 columns</p>\n",
       "</div>"
      ],
      "text/plain": [
       "   ID                                             chainA chainB   P1   P2  \\\n",
       "1   2  VSGWLGPQQYLSYNSLRGEAEPCGAWVWENQVSWYWEKETTDLRIK...    NaN  ACE  Ala   \n",
       "\n",
       "    P3   P4   P5      P6   P7  ...  P10  P11  P12  P13 linker1 pos_cyclic1  \\\n",
       "1  Cys  Phe  Ala  CUSTOM  Asp  ...  Val  Ala  Pro  NH2     NaN         NaN   \n",
       "\n",
       "  pos_linker1 linker2 pos_cyclic2 pos_linker2  \n",
       "1         NaN     NaN         NaN         NaN  \n",
       "\n",
       "[1 rows x 22 columns]"
      ]
     },
     "execution_count": 3,
     "metadata": {},
     "output_type": "execute_result"
    }
   ],
   "source": [
    "df_uaa_linear = df[df['ID']==2]\n",
    "df_uaa_linear"
   ]
  },
  {
   "cell_type": "markdown",
   "metadata": {},
   "source": [
    "If you provide a peptide contains unnatural amino acids, you should put 3-letter format(for natural ones) and you custom abbreviation under column \"P#\"."
   ]
  },
  {
   "cell_type": "markdown",
   "metadata": {},
   "source": [
    "Some of the abbreviations may be already in af3's ccd codes(like ACE, NH2 here), but if you don't know if your custom one already exists, you may use the function below, and refine your csv."
   ]
  },
  {
   "cell_type": "code",
   "execution_count": null,
   "metadata": {},
   "outputs": [],
   "source": [
    "custom_smiles = \"CN[C@@H](CC(C)C)C(=O)O\" # Me-Leu\n",
    "find_ccd(custom_smiles) # MLE"
   ]
  },
  {
   "cell_type": "markdown",
   "metadata": {},
   "source": [
    "If nothing showed up (or you just too lazy to do that), you can add your custom abbreviation and smiles in `lookuptable.csv`. And then..."
   ]
  },
  {
   "cell_type": "code",
   "execution_count": null,
   "metadata": {},
   "outputs": [],
   "source": [
    "dataframe2afjsons(df_uaa_linear, lookuptable=\"lookuptable.csv\",output_folder=\"af_json\")"
   ]
  },
  {
   "cell_type": "markdown",
   "metadata": {},
   "source": [
    "### 2. Cyclic Peptides"
   ]
  },
  {
   "cell_type": "markdown",
   "metadata": {},
   "source": [
    "For cyclic peptides, we simply utilize pTM and bondAtomPair to mimic cyclic peptides."
   ]
  },
  {
   "cell_type": "code",
   "execution_count": 4,
   "metadata": {},
   "outputs": [
    {
     "data": {
      "text/html": [
       "<div>\n",
       "<style scoped>\n",
       "    .dataframe tbody tr th:only-of-type {\n",
       "        vertical-align: middle;\n",
       "    }\n",
       "\n",
       "    .dataframe tbody tr th {\n",
       "        vertical-align: top;\n",
       "    }\n",
       "\n",
       "    .dataframe thead th {\n",
       "        text-align: right;\n",
       "    }\n",
       "</style>\n",
       "<table border=\"1\" class=\"dataframe\">\n",
       "  <thead>\n",
       "    <tr style=\"text-align: right;\">\n",
       "      <th></th>\n",
       "      <th>ID</th>\n",
       "      <th>chainA</th>\n",
       "      <th>chainB</th>\n",
       "      <th>P1</th>\n",
       "      <th>P2</th>\n",
       "      <th>P3</th>\n",
       "      <th>P4</th>\n",
       "      <th>P5</th>\n",
       "      <th>P6</th>\n",
       "      <th>P7</th>\n",
       "      <th>...</th>\n",
       "      <th>P10</th>\n",
       "      <th>P11</th>\n",
       "      <th>P12</th>\n",
       "      <th>P13</th>\n",
       "      <th>linker1</th>\n",
       "      <th>pos_cyclic1</th>\n",
       "      <th>pos_linker1</th>\n",
       "      <th>linker2</th>\n",
       "      <th>pos_cyclic2</th>\n",
       "      <th>pos_linker2</th>\n",
       "    </tr>\n",
       "  </thead>\n",
       "  <tbody>\n",
       "    <tr>\n",
       "      <th>2</th>\n",
       "      <td>3</td>\n",
       "      <td>VSGWLGPQQYLSYNSLRGEAEPCGAWVWENQVSWYWEKETTDLRIK...</td>\n",
       "      <td>NaN</td>\n",
       "      <td>ACE</td>\n",
       "      <td>Ala</td>\n",
       "      <td>Cys</td>\n",
       "      <td>Phe</td>\n",
       "      <td>Ala</td>\n",
       "      <td>Pro</td>\n",
       "      <td>Asp</td>\n",
       "      <td>...</td>\n",
       "      <td>Val</td>\n",
       "      <td>Ala</td>\n",
       "      <td>Pro</td>\n",
       "      <td>NH2</td>\n",
       "      <td>SS</td>\n",
       "      <td>2|CB,11|CB</td>\n",
       "      <td>1|S1,1|S2</td>\n",
       "      <td>NaN</td>\n",
       "      <td>NaN</td>\n",
       "      <td>NaN</td>\n",
       "    </tr>\n",
       "  </tbody>\n",
       "</table>\n",
       "<p>1 rows × 22 columns</p>\n",
       "</div>"
      ],
      "text/plain": [
       "   ID                                             chainA chainB   P1   P2  \\\n",
       "2   3  VSGWLGPQQYLSYNSLRGEAEPCGAWVWENQVSWYWEKETTDLRIK...    NaN  ACE  Ala   \n",
       "\n",
       "    P3   P4   P5   P6   P7  ...  P10  P11  P12  P13 linker1 pos_cyclic1  \\\n",
       "2  Cys  Phe  Ala  Pro  Asp  ...  Val  Ala  Pro  NH2      SS  2|CB,11|CB   \n",
       "\n",
       "  pos_linker1 linker2 pos_cyclic2 pos_linker2  \n",
       "2   1|S1,1|S2     NaN         NaN         NaN  \n",
       "\n",
       "[1 rows x 22 columns]"
      ]
     },
     "execution_count": 4,
     "metadata": {},
     "output_type": "execute_result"
    }
   ],
   "source": [
    "df_uaa_cyclic = df[df['ID']==3]\n",
    "df_uaa_cyclic"
   ]
  },
  {
   "cell_type": "markdown",
   "metadata": {},
   "source": [
    "Take the simplest disulfide as an example:\n",
    "- linker#: provide the custom abb for your linker (and also need to update `lookuptable.csv`)\n",
    "- pos_cyclic#: specific the cyclic position of the atom on the peptide. Here we cut CYS to ALA, and move the disulfide as a linker\n",
    "- pos_linker#: specific the cyclic position of the atom on the linker"
   ]
  },
  {
   "cell_type": "markdown",
   "metadata": {},
   "source": [
    "pos_cyclic: 2|CB means cyclic postion is at CB atom of ALA@P2\\\n",
    "pos_linker: 1|S1 means cyclic postion is at S1 atom of SS@P1, but linker chain only have one obj, so the position always be 1\\\n",
    "2|CB,11|CB and 1|S1,1|S2 means CB of ALA@P2 will connect to S1 of SS linker, and CB of ALA@P11 will connect to S2 of SS linker"
   ]
  },
  {
   "cell_type": "markdown",
   "metadata": {},
   "source": [
    "How to know the atom name?"
   ]
  },
  {
   "cell_type": "code",
   "execution_count": null,
   "metadata": {},
   "outputs": [],
   "source": [
    "lookuptable = \"lookuptable.csv\"\n",
    "ccd_folder = \"CCD\"\n",
    "lookup_df = pd.read_csv(lookuptable)\n",
    "lookup_dict = dict(zip(lookup_df['CCD'], lookup_df['smiles']))\n",
    "\n",
    "for name, smiles in lookup_dict.items():\n",
    "    output_cif_file = f\"{ccd_folder}/{name}.cif\"\n",
    "    smiles2cif(smiles, output_cif_file, name)"
   ]
  },
  {
   "cell_type": "markdown",
   "metadata": {},
   "source": [
    "And use PyMOL to open CIF, label the object with atom name. The showing atom names will be the names used in here."
   ]
  },
  {
   "cell_type": "markdown",
   "metadata": {},
   "source": [
    "And then..."
   ]
  },
  {
   "cell_type": "code",
   "execution_count": null,
   "metadata": {},
   "outputs": [],
   "source": [
    "dataframe2afjsons(df_uaa_cyclic, lookuptable=\"lookuptable.csv\", output_folder=\"af_json\")"
   ]
  },
  {
   "cell_type": "markdown",
   "metadata": {},
   "source": [
    "How about bicycle?\\\n",
    "You just need to extend the columns by adding `linker2,pos_cyclic2,pos_linker2`"
   ]
  },
  {
   "cell_type": "markdown",
   "metadata": {},
   "source": [
    "## Update MSA Template"
   ]
  },
  {
   "cell_type": "markdown",
   "metadata": {},
   "source": [
    "For the sake of convenience, once you have a json file with MSA, you can reuse it, especially we only design different peptides for the same protein target."
   ]
  },
  {
   "cell_type": "markdown",
   "metadata": {},
   "source": [
    "If you have data with same proteins but different peptides (their lengths are not equal)"
   ]
  },
  {
   "cell_type": "code",
   "execution_count": 5,
   "metadata": {},
   "outputs": [
    {
     "data": {
      "text/html": [
       "<div>\n",
       "<style scoped>\n",
       "    .dataframe tbody tr th:only-of-type {\n",
       "        vertical-align: middle;\n",
       "    }\n",
       "\n",
       "    .dataframe tbody tr th {\n",
       "        vertical-align: top;\n",
       "    }\n",
       "\n",
       "    .dataframe thead th {\n",
       "        text-align: right;\n",
       "    }\n",
       "</style>\n",
       "<table border=\"1\" class=\"dataframe\">\n",
       "  <thead>\n",
       "    <tr style=\"text-align: right;\">\n",
       "      <th></th>\n",
       "      <th>ID</th>\n",
       "      <th>chainA</th>\n",
       "      <th>chainB</th>\n",
       "      <th>P1</th>\n",
       "      <th>P2</th>\n",
       "      <th>P3</th>\n",
       "      <th>P4</th>\n",
       "      <th>P5</th>\n",
       "      <th>P6</th>\n",
       "      <th>P7</th>\n",
       "      <th>...</th>\n",
       "      <th>P10</th>\n",
       "      <th>P11</th>\n",
       "      <th>P12</th>\n",
       "      <th>P13</th>\n",
       "      <th>linker1</th>\n",
       "      <th>pos_cyclic1</th>\n",
       "      <th>pos_linker1</th>\n",
       "      <th>linker2</th>\n",
       "      <th>pos_cyclic2</th>\n",
       "      <th>pos_linker2</th>\n",
       "    </tr>\n",
       "  </thead>\n",
       "  <tbody>\n",
       "    <tr>\n",
       "      <th>3</th>\n",
       "      <td>4</td>\n",
       "      <td>VSGWLGPQQYLSYNSLRGEAEPCGAWVWENQVSWYWEKETTDLRIK...</td>\n",
       "      <td>IQRTPKIQVYSRHPAENGKSNFLNCYVSGFHPSDIEVDLLKNGERI...</td>\n",
       "      <td>ACE</td>\n",
       "      <td>Ala</td>\n",
       "      <td>Cys</td>\n",
       "      <td>Phe</td>\n",
       "      <td>Ala</td>\n",
       "      <td>DAL</td>\n",
       "      <td>Asp</td>\n",
       "      <td>...</td>\n",
       "      <td>Val</td>\n",
       "      <td>Ala</td>\n",
       "      <td>Pro</td>\n",
       "      <td>NH2</td>\n",
       "      <td>SS</td>\n",
       "      <td>2|CB,11|CB</td>\n",
       "      <td>1|S1,1|S2</td>\n",
       "      <td>DABE</td>\n",
       "      <td>5|CB,9|CB</td>\n",
       "      <td>1|C1,1|C4</td>\n",
       "    </tr>\n",
       "  </tbody>\n",
       "</table>\n",
       "<p>1 rows × 22 columns</p>\n",
       "</div>"
      ],
      "text/plain": [
       "   ID                                             chainA  \\\n",
       "3   4  VSGWLGPQQYLSYNSLRGEAEPCGAWVWENQVSWYWEKETTDLRIK...   \n",
       "\n",
       "                                              chainB   P1   P2   P3   P4   P5  \\\n",
       "3  IQRTPKIQVYSRHPAENGKSNFLNCYVSGFHPSDIEVDLLKNGERI...  ACE  Ala  Cys  Phe  Ala   \n",
       "\n",
       "    P6   P7  ...  P10  P11  P12  P13 linker1 pos_cyclic1 pos_linker1 linker2  \\\n",
       "3  DAL  Asp  ...  Val  Ala  Pro  NH2      SS  2|CB,11|CB   1|S1,1|S2    DABE   \n",
       "\n",
       "  pos_cyclic2 pos_linker2  \n",
       "3   5|CB,9|CB   1|C1,1|C4  \n",
       "\n",
       "[1 rows x 22 columns]"
      ]
     },
     "execution_count": 5,
     "metadata": {},
     "output_type": "execute_result"
    }
   ],
   "source": [
    "df_same_prots = df[df[\"ID\"].isin([4,5])]\n",
    "df_same_prots"
   ]
  },
  {
   "cell_type": "markdown",
   "metadata": {},
   "source": [
    "You may provide one MSA template file with only chainA and chainB"
   ]
  },
  {
   "cell_type": "code",
   "execution_count": null,
   "metadata": {},
   "outputs": [],
   "source": [
    "dataframe2afjsons(df_same_prots, template_file=None, lookuptable=\"lookuptable.csv\", output_folder=\"af_json\")"
   ]
  },
  {
   "cell_type": "markdown",
   "metadata": {},
   "source": [
    "If you have same length peptides, you can set `mut_peptides` to true."
   ]
  },
  {
   "cell_type": "markdown",
   "metadata": {},
   "source": [
    "If each entry in the csv file has a template file, you can provide a list of template files, but need to follow the same order as the entry."
   ]
  }
 ],
 "metadata": {
  "kernelspec": {
   "display_name": "dl",
   "language": "python",
   "name": "python3"
  },
  "language_info": {
   "codemirror_mode": {
    "name": "ipython",
    "version": 3
   },
   "file_extension": ".py",
   "mimetype": "text/x-python",
   "name": "python",
   "nbconvert_exporter": "python",
   "pygments_lexer": "ipython3",
   "version": "3.8.16"
  }
 },
 "nbformat": 4,
 "nbformat_minor": 2
}
